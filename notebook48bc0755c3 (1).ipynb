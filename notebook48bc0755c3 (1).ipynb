{
 "cells": [
  {
   "cell_type": "code",
   "execution_count": null,
   "metadata": {
    "execution": {
     "iopub.execute_input": "2025-05-28T03:13:13.328105Z",
     "iopub.status.busy": "2025-05-28T03:13:13.327295Z",
     "iopub.status.idle": "2025-05-28T03:13:49.769427Z",
     "shell.execute_reply": "2025-05-28T03:13:49.768479Z",
     "shell.execute_reply.started": "2025-05-28T03:13:13.328073Z"
    },
    "trusted": true
   },
   "outputs": [],
   "source": [
    "!pip install -qU langchain langchainhub langchain-community langchain-chroma google-genai chromadb"
   ]
  },
  {
   "cell_type": "code",
   "execution_count": null,
   "metadata": {
    "execution": {
     "iopub.execute_input": "2025-05-28T03:13:49.771291Z",
     "iopub.status.busy": "2025-05-28T03:13:49.771049Z",
     "iopub.status.idle": "2025-05-28T03:15:01.039816Z",
     "shell.execute_reply": "2025-05-28T03:15:01.038999Z",
     "shell.execute_reply.started": "2025-05-28T03:13:49.771266Z"
    },
    "trusted": true
   },
   "outputs": [],
   "source": [
    "!pip install qdrant-client sentence-transformers fastembed"
   ]
  },
  {
   "cell_type": "code",
   "execution_count": 7,
   "metadata": {
    "_cell_guid": "b1076dfc-b9ad-4769-8c92-a6c4dae69d19",
    "_uuid": "8f2839f25d086af736a60e9eeb907d3b93b6e0e5",
    "execution": {
     "iopub.execute_input": "2025-05-28T03:15:08.329550Z",
     "iopub.status.busy": "2025-05-28T03:15:08.329305Z",
     "iopub.status.idle": "2025-05-28T03:15:35.835045Z",
     "shell.execute_reply": "2025-05-28T03:15:35.834278Z",
     "shell.execute_reply.started": "2025-05-28T03:15:08.329527Z"
    },
    "trusted": true
   },
   "outputs": [
    {
     "name": "stderr",
     "output_type": "stream",
     "text": [
      "2025-05-28 03:15:21.511538: E external/local_xla/xla/stream_executor/cuda/cuda_fft.cc:477] Unable to register cuFFT factory: Attempting to register factory for plugin cuFFT when one has already been registered\n",
      "WARNING: All log messages before absl::InitializeLog() is called are written to STDERR\n",
      "E0000 00:00:1748402121.693146      35 cuda_dnn.cc:8310] Unable to register cuDNN factory: Attempting to register factory for plugin cuDNN when one has already been registered\n",
      "E0000 00:00:1748402121.745655      35 cuda_blas.cc:1418] Unable to register cuBLAS factory: Attempting to register factory for plugin cuBLAS when one has already been registered\n"
     ]
    }
   ],
   "source": [
    "import os\n",
    "import json\n",
    "from tqdm import tqdm\n",
    "from copy import deepcopy\n",
    "from uuid import uuid4\n",
    "\n",
    "from qdrant_client import QdrantClient, models\n",
    "from sentence_transformers import SentenceTransformer \n",
    "\n",
    "from langchain_chroma import Chroma\n",
    "from langchain.document_loaders import JSONLoader\n",
    "from langchain.schema import Document\n",
    "from langchain.text_splitter import RecursiveCharacterTextSplitter\n",
    "from langchain.retrievers import ContextualCompressionRetriever\n",
    "from langchain.retrievers.document_compressors.embeddings_filter import EmbeddingsFilter\n",
    "from langchain.prompts import ChatPromptTemplate\n",
    "from langchain_core.runnables import RunnablePassthrough\n",
    "from langchain_core.output_parsers import StrOutputParser"
   ]
  },
  {
   "cell_type": "code",
   "execution_count": 8,
   "metadata": {
    "execution": {
     "iopub.execute_input": "2025-05-28T03:15:35.836116Z",
     "iopub.status.busy": "2025-05-28T03:15:35.835862Z",
     "iopub.status.idle": "2025-05-28T03:15:35.839748Z",
     "shell.execute_reply": "2025-05-28T03:15:35.839078Z",
     "shell.execute_reply.started": "2025-05-28T03:15:35.836091Z"
    },
    "trusted": true
   },
   "outputs": [],
   "source": [
    "from qdrant_client import QdrantClient, models\n",
    "from sentence_transformers import SentenceTransformer"
   ]
  },
  {
   "cell_type": "code",
   "execution_count": null,
   "metadata": {
    "execution": {
     "iopub.execute_input": "2025-05-28T03:15:35.840789Z",
     "iopub.status.busy": "2025-05-28T03:15:35.840597Z",
     "iopub.status.idle": "2025-05-28T03:15:36.268674Z",
     "shell.execute_reply": "2025-05-28T03:15:36.267816Z",
     "shell.execute_reply.started": "2025-05-28T03:15:35.840775Z"
    },
    "trusted": true
   },
   "outputs": [],
   "source": [
    "from fastembed import SparseTextEmbedding "
   ]
  },
  {
   "cell_type": "code",
   "execution_count": 10,
   "metadata": {
    "execution": {
     "iopub.execute_input": "2025-05-28T03:15:36.269750Z",
     "iopub.status.busy": "2025-05-28T03:15:36.269522Z",
     "iopub.status.idle": "2025-05-28T03:15:36.287103Z",
     "shell.execute_reply": "2025-05-28T03:15:36.286515Z",
     "shell.execute_reply.started": "2025-05-28T03:15:36.269734Z"
    },
    "trusted": true
   },
   "outputs": [
    {
     "data": {
      "text/plain": [
       "True"
      ]
     },
     "execution_count": 10,
     "metadata": {},
     "output_type": "execute_result"
    }
   ],
   "source": [
    "qdrant = QdrantClient(\":memory:\")\n",
    "\n",
    "# Create collection\n",
    "qdrant.create_collection(\n",
    "    collection_name=\"demo_collection\",\n",
    "    vectors_config= {\n",
    "        'dense': models.VectorParams(size=768, distance=models.Distance.COSINE)\n",
    "    },\n",
    "    sparse_vectors_config= { 'sparse': models.SparseVectorParams(modifier=models.Modifier.IDF)}\n",
    "\n",
    ")"
   ]
  },
  {
   "cell_type": "code",
   "execution_count": null,
   "metadata": {
    "execution": {
     "iopub.execute_input": "2025-05-28T03:15:36.288646Z",
     "iopub.status.busy": "2025-05-28T03:15:36.287913Z",
     "iopub.status.idle": "2025-05-28T03:15:44.344804Z",
     "shell.execute_reply": "2025-05-28T03:15:44.344087Z",
     "shell.execute_reply.started": "2025-05-28T03:15:36.288628Z"
    },
    "trusted": true
   },
   "outputs": [],
   "source": [
    "# dense_embedding_model = TextEmbedding(\"BAAI/bge-base-en-v1.5\")\n",
    "dense_embedding_model = SentenceTransformer(\"BAAI/bge-base-en-v1.5\").to('cuda')\n",
    "bm25_embedding_model = SparseTextEmbedding(\"Qdrant/bm25\")"
   ]
  },
  {
   "cell_type": "code",
   "execution_count": 12,
   "metadata": {
    "execution": {
     "iopub.execute_input": "2025-05-28T03:15:44.345720Z",
     "iopub.status.busy": "2025-05-28T03:15:44.345527Z",
     "iopub.status.idle": "2025-05-28T03:15:44.350285Z",
     "shell.execute_reply": "2025-05-28T03:15:44.349647Z",
     "shell.execute_reply.started": "2025-05-28T03:15:44.345705Z"
    },
    "trusted": true
   },
   "outputs": [],
   "source": [
    "def embedding_func(documents):\n",
    "    if not isinstance(documents, list):\n",
    "        documents = [documents]\n",
    "\n",
    "    dense_embedding = list(dense_embedding_model.encode(documents))\n",
    "    # dense_embedding = list(dense_embedding_model.embed(documents))\n",
    "    sparse_embedding = list(bm25_embedding_model.embed(documents))\n",
    "\n",
    "    dense_embedding = [list(embd) for embd in dense_embedding]\n",
    "\n",
    "    return {\n",
    "        'dense_embedding' : dense_embedding,\n",
    "        'sparse_embedding' : sparse_embedding\n",
    "    }"
   ]
  },
  {
   "cell_type": "code",
   "execution_count": 13,
   "metadata": {
    "execution": {
     "iopub.execute_input": "2025-05-28T03:15:44.354032Z",
     "iopub.status.busy": "2025-05-28T03:15:44.353774Z",
     "iopub.status.idle": "2025-05-28T03:15:44.787383Z",
     "shell.execute_reply": "2025-05-28T03:15:44.786614Z",
     "shell.execute_reply.started": "2025-05-28T03:15:44.354017Z"
    },
    "trusted": true
   },
   "outputs": [
    {
     "data": {
      "application/vnd.jupyter.widget-view+json": {
       "model_id": "f5a4692c65b944f59613f166a27856be",
       "version_major": 2,
       "version_minor": 0
      },
      "text/plain": [
       "Batches:   0%|          | 0/1 [00:00<?, ?it/s]"
      ]
     },
     "metadata": {},
     "output_type": "display_data"
    }
   ],
   "source": [
    "emb = embedding_func(['Who is the boss of Apple', 'I am Optimus Prime'])"
   ]
  },
  {
   "cell_type": "markdown",
   "metadata": {},
   "source": [
    "emb"
   ]
  },
  {
   "cell_type": "code",
   "execution_count": 14,
   "metadata": {
    "execution": {
     "iopub.execute_input": "2025-05-28T03:15:44.788607Z",
     "iopub.status.busy": "2025-05-28T03:15:44.788394Z",
     "iopub.status.idle": "2025-05-28T03:15:46.878214Z",
     "shell.execute_reply": "2025-05-28T03:15:46.877700Z",
     "shell.execute_reply.started": "2025-05-28T03:15:44.788592Z"
    },
    "trusted": true
   },
   "outputs": [
    {
     "data": {
      "application/vnd.jupyter.widget-view+json": {
       "model_id": "e828b64436d14a6dae9f981535b12f73",
       "version_major": 2,
       "version_minor": 0
      },
      "text/plain": [
       "README.md:   0%|          | 0.00/1.31k [00:00<?, ?B/s]"
      ]
     },
     "metadata": {},
     "output_type": "display_data"
    },
    {
     "data": {
      "application/vnd.jupyter.widget-view+json": {
       "model_id": "5d53ee78f5624ee194adbbef249aa0de",
       "version_major": 2,
       "version_minor": 0
      },
      "text/plain": [
       "corpus.json:   0%|          | 0.00/6.79M [00:00<?, ?B/s]"
      ]
     },
     "metadata": {},
     "output_type": "display_data"
    },
    {
     "data": {
      "application/vnd.jupyter.widget-view+json": {
       "model_id": "cf38a5c3f7ec407e82f32829430a4525",
       "version_major": 2,
       "version_minor": 0
      },
      "text/plain": [
       "Generating train split:   0%|          | 0/609 [00:00<?, ? examples/s]"
      ]
     },
     "metadata": {},
     "output_type": "display_data"
    }
   ],
   "source": [
    "# Load corpus (list of dicts with keys like 'text', 'title', etc.)\n",
    "from datasets import load_dataset\n",
    "\n",
    "corpus_data = load_dataset(\"yixuantt/MultiHopRAG\", \"corpus\")[\"train\"]"
   ]
  },
  {
   "cell_type": "code",
   "execution_count": 15,
   "metadata": {
    "execution": {
     "iopub.execute_input": "2025-05-28T03:15:46.879171Z",
     "iopub.status.busy": "2025-05-28T03:15:46.878927Z",
     "iopub.status.idle": "2025-05-28T03:15:46.884224Z",
     "shell.execute_reply": "2025-05-28T03:15:46.883298Z",
     "shell.execute_reply.started": "2025-05-28T03:15:46.879145Z"
    },
    "trusted": true
   },
   "outputs": [
    {
     "data": {
      "text/plain": [
       "Dataset({\n",
       "    features: ['category', 'author', 'published_at', 'body', 'title', 'url', 'source'],\n",
       "    num_rows: 609\n",
       "})"
      ]
     },
     "execution_count": 15,
     "metadata": {},
     "output_type": "execute_result"
    }
   ],
   "source": [
    "corpus_data"
   ]
  },
  {
   "cell_type": "code",
   "execution_count": null,
   "metadata": {
    "execution": {
     "iopub.execute_input": "2025-05-28T03:15:46.885322Z",
     "iopub.status.busy": "2025-05-28T03:15:46.885054Z",
     "iopub.status.idle": "2025-05-28T03:17:39.413872Z",
     "shell.execute_reply": "2025-05-28T03:17:39.413356Z",
     "shell.execute_reply.started": "2025-05-28T03:15:46.885306Z"
    },
    "trusted": true
   },
   "outputs": [],
   "source": [
    "from langchain.text_splitter import RecursiveCharacterTextSplitter\n",
    "from uuid import uuid4\n",
    "\n",
    "text_splitter = RecursiveCharacterTextSplitter(\n",
    "    chunk_size=1000,\n",
    "    chunk_overlap=100\n",
    ")\n",
    "\n",
    "# Convert to LangChain Document format and split each doc into chunks\n",
    "points = []\n",
    "documents = []\n",
    "# i = 0\n",
    "\n",
    "BS = 64\n",
    "\n",
    "for doc in corpus_data:\n",
    "    # i += 1\n",
    "    # if i > 100:\n",
    "    #     break\n",
    "    payload = {\n",
    "        \"title\": doc.get(\"title\", \"\"),\n",
    "        \"source\": doc.get(\"source\", \"\"),\n",
    "        \"published_at\": doc.get(\"published_at\", \"\"),\n",
    "    }\n",
    "    # Split the text into chunks\n",
    "    splits = text_splitter.split_text(doc[\"body\"])\n",
    "    # Create a Document object for each chunk\n",
    "    for chunk in splits:\n",
    "        c_payload = payload.copy()\n",
    "        c_payload['text'] = chunk\n",
    "\n",
    "        documents.append(c_payload)\n",
    "\n",
    "\n",
    "for i in range(0, len(documents), BS):\n",
    "\n",
    "    batch = documents[i:i+BS]\n",
    "    embeddings = embedding_func([payload['text'] for payload in batch])\n",
    "    # print(embeddings)\n",
    "\n",
    "    for payload, sparse_embedding, dense_embedding in zip(batch, embeddings['sparse_embedding'], embeddings['dense_embedding']):\n",
    "        points.append(\n",
    "             models.PointStruct(id=int(uuid4()), \n",
    "                                vector={\n",
    "                                    'sparse' : models.SparseVector(**sparse_embedding.as_object()),\n",
    "                                    # 'sparse' : sparse_embedding.as_object(),\n",
    "                                    'dense' : dense_embedding\n",
    "                                }, \n",
    "                                payload=payload)\n",
    "        )\n",
    "    \n",
    "        \n",
    "    # embedding = embedding_model.encode(chunk)\n",
    "    # points.append(\n",
    "    #     models.PointStruct(id=int(uuid4()), vector=embedding.tolist(), payload=c_payload)\n",
    "    # )"
   ]
  },
  {
   "cell_type": "code",
   "execution_count": 17,
   "metadata": {
    "execution": {
     "iopub.execute_input": "2025-05-28T03:17:39.414819Z",
     "iopub.status.busy": "2025-05-28T03:17:39.414558Z",
     "iopub.status.idle": "2025-05-28T03:17:46.377477Z",
     "shell.execute_reply": "2025-05-28T03:17:46.376676Z",
     "shell.execute_reply.started": "2025-05-28T03:17:39.414793Z"
    },
    "trusted": true
   },
   "outputs": [
    {
     "data": {
      "text/plain": [
       "UpdateResult(operation_id=0, status=<UpdateStatus.COMPLETED: 'completed'>)"
      ]
     },
     "execution_count": 17,
     "metadata": {},
     "output_type": "execute_result"
    }
   ],
   "source": [
    "qdrant.upsert(collection_name=\"demo_collection\", points=points)"
   ]
  },
  {
   "cell_type": "code",
   "execution_count": 18,
   "metadata": {
    "execution": {
     "iopub.execute_input": "2025-05-28T03:17:46.378577Z",
     "iopub.status.busy": "2025-05-28T03:17:46.378280Z",
     "iopub.status.idle": "2025-05-28T03:17:46.383868Z",
     "shell.execute_reply": "2025-05-28T03:17:46.383135Z",
     "shell.execute_reply.started": "2025-05-28T03:17:46.378553Z"
    },
    "trusted": true
   },
   "outputs": [
    {
     "data": {
      "text/plain": [
       "8145"
      ]
     },
     "execution_count": 18,
     "metadata": {},
     "output_type": "execute_result"
    }
   ],
   "source": [
    "len(points)"
   ]
  },
  {
   "cell_type": "code",
   "execution_count": 19,
   "metadata": {
    "execution": {
     "iopub.execute_input": "2025-05-28T03:17:46.384878Z",
     "iopub.status.busy": "2025-05-28T03:17:46.384638Z",
     "iopub.status.idle": "2025-05-28T03:17:47.296058Z",
     "shell.execute_reply": "2025-05-28T03:17:47.295518Z",
     "shell.execute_reply.started": "2025-05-28T03:17:46.384857Z"
    },
    "trusted": true
   },
   "outputs": [
    {
     "data": {
      "application/vnd.jupyter.widget-view+json": {
       "model_id": "c38177fa04fa4336bc6bfe8240d727de",
       "version_major": 2,
       "version_minor": 0
      },
      "text/plain": [
       "MultiHopRAG.json:   0%|          | 0.00/5.17M [00:00<?, ?B/s]"
      ]
     },
     "metadata": {},
     "output_type": "display_data"
    },
    {
     "data": {
      "application/vnd.jupyter.widget-view+json": {
       "model_id": "48ab1a5e5749411b9db0bbde4ef24966",
       "version_major": 2,
       "version_minor": 0
      },
      "text/plain": [
       "Generating train split:   0%|          | 0/2556 [00:00<?, ? examples/s]"
      ]
     },
     "metadata": {},
     "output_type": "display_data"
    }
   ],
   "source": [
    "from datasets import load_dataset\n",
    "\n",
    "query_data = load_dataset(\"yixuantt/MultiHopRAG\", \"MultiHopRAG\")[\"train\"]"
   ]
  },
  {
   "cell_type": "code",
   "execution_count": 20,
   "metadata": {
    "execution": {
     "iopub.execute_input": "2025-05-28T03:17:47.297035Z",
     "iopub.status.busy": "2025-05-28T03:17:47.296816Z",
     "iopub.status.idle": "2025-05-28T03:17:48.002023Z",
     "shell.execute_reply": "2025-05-28T03:17:48.001254Z",
     "shell.execute_reply.started": "2025-05-28T03:17:47.297012Z"
    },
    "trusted": true
   },
   "outputs": [
    {
     "name": "stdout",
     "output_type": "stream",
     "text": [
      "Cloning into 'llm'...\n"
     ]
    },
    {
     "name": "stderr",
     "output_type": "stream",
     "text": [
      "huggingface/tokenizers: The current process just got forked, after parallelism has already been used. Disabling parallelism to avoid deadlocks...\n",
      "To disable this warning, you can either:\n",
      "\t- Avoid using `tokenizers` before the fork if possible\n",
      "\t- Explicitly set the environment variable TOKENIZERS_PARALLELISM=(true | false)\n"
     ]
    },
    {
     "name": "stdout",
     "output_type": "stream",
     "text": [
      "remote: Enumerating objects: 318, done.\u001b[K\n",
      "remote: Counting objects: 100% (91/91), done.\u001b[K\n",
      "remote: Compressing objects: 100% (56/56), done.\u001b[K\n",
      "remote: Total 318 (delta 55), reused 67 (delta 34), pack-reused 227 (from 1)\u001b[K\n",
      "Receiving objects: 100% (318/318), 63.48 KiB | 2.64 MiB/s, done.\n",
      "Resolving deltas: 100% (194/194), done.\n"
     ]
    }
   ],
   "source": [
    "! git clone https://github.com/hung20gg/llm.git"
   ]
  },
  {
   "cell_type": "code",
   "execution_count": null,
   "metadata": {
    "execution": {
     "iopub.execute_input": "2025-05-28T03:17:48.003364Z",
     "iopub.status.busy": "2025-05-28T03:17:48.003096Z",
     "iopub.status.idle": "2025-05-28T03:17:51.161960Z",
     "shell.execute_reply": "2025-05-28T03:17:51.160841Z",
     "shell.execute_reply.started": "2025-05-28T03:17:48.003337Z"
    },
    "trusted": true
   },
   "outputs": [],
   "source": [
    "!pip install openai"
   ]
  },
  {
   "cell_type": "code",
   "execution_count": null,
   "metadata": {
    "execution": {
     "iopub.execute_input": "2025-05-28T03:17:51.164390Z",
     "iopub.status.busy": "2025-05-28T03:17:51.163479Z",
     "iopub.status.idle": "2025-05-28T03:17:53.227016Z",
     "shell.execute_reply": "2025-05-28T03:17:53.226457Z",
     "shell.execute_reply.started": "2025-05-28T03:17:51.164350Z"
    },
    "trusted": true
   },
   "outputs": [],
   "source": [
    "from llm import OpenAIWrapper\n",
    "\n",
    "host = \"https://integrate.api.nvidia.com/v1\" # vLLM host\n",
    "model_name = \"qwen/qwen2.5-7b-instruct\"\n",
    "api_key = 'eat-my-ass'\n",
    "\n",
    "llm = OpenAIWrapper(host = host, model_name = model_name, api_key = api_key)"
   ]
  },
  {
   "cell_type": "code",
   "execution_count": 23,
   "metadata": {
    "execution": {
     "iopub.execute_input": "2025-05-28T03:17:53.227940Z",
     "iopub.status.busy": "2025-05-28T03:17:53.227754Z",
     "iopub.status.idle": "2025-05-28T03:17:53.231839Z",
     "shell.execute_reply": "2025-05-28T03:17:53.231152Z",
     "shell.execute_reply.started": "2025-05-28T03:17:53.227920Z"
    },
    "trusted": true
   },
   "outputs": [],
   "source": [
    "system_prompt = (\n",
    "    \"Below is a question followed by some context from different sources. \"\n",
    "    \"Please answer the main question based on the context in <question> tag. The answer to the question is a word or entity. \"\n",
    "    \"If the provided information is sufficient to answer the question, respond 'Yes' and answer the question \"\n",
    "    \"Else, return no and provide new sub-question needed to answer the original question. \\n\\n\"\n",
    "    \"Think step-by-step and return in the following format \\n\\n\"\n",
    "    \"## Reasoning:\\n\"\n",
    "    \"Step-by-step reasoning\\n\"\n",
    "    \"## Decision:\\n\"\n",
    "    \"Yes/No\\n\"\n",
    "    \"## Details:\\n\"\n",
    "    \"Final Answer/New question.\\n\\n\"\n",
    "    \"Note:\\n\"\n",
    "    \"- Do not guess early. Use previous steps and retrieved knowledge to build your reasoning gradually.\"\n",
    ")"
   ]
  },
  {
   "cell_type": "code",
   "execution_count": 24,
   "metadata": {
    "execution": {
     "iopub.execute_input": "2025-05-28T03:17:53.233473Z",
     "iopub.status.busy": "2025-05-28T03:17:53.232687Z",
     "iopub.status.idle": "2025-05-28T03:17:53.262598Z",
     "shell.execute_reply": "2025-05-28T03:17:53.261980Z",
     "shell.execute_reply.started": "2025-05-28T03:17:53.233452Z"
    },
    "trusted": true
   },
   "outputs": [
    {
     "data": {
      "text/plain": [
       "[SparseEmbedding(values=array([1], dtype=int32), indices=array([892665534], dtype=int32))]"
      ]
     },
     "execution_count": 24,
     "metadata": {},
     "output_type": "execute_result"
    }
   ],
   "source": [
    "list(bm25_embedding_model.query_embed('Fuck you'))"
   ]
  },
  {
   "cell_type": "code",
   "execution_count": 25,
   "metadata": {
    "execution": {
     "iopub.execute_input": "2025-05-28T03:17:53.263586Z",
     "iopub.status.busy": "2025-05-28T03:17:53.263361Z",
     "iopub.status.idle": "2025-05-28T03:17:53.272050Z",
     "shell.execute_reply": "2025-05-28T03:17:53.271298Z",
     "shell.execute_reply.started": "2025-05-28T03:17:53.263566Z"
    },
    "trusted": true
   },
   "outputs": [],
   "source": [
    "def embedding_func_2(documents):\n",
    "    if not isinstance(documents, list):\n",
    "        documents = [documents]\n",
    "\n",
    "    dense_embedding = list(dense_embedding_model.encode(documents))\n",
    "    # dense_embedding = list(dense_embedding_model.embed(documents))\n",
    "    sparse_embedding = list(bm25_embedding_model.embed(documents))\n",
    "\n",
    "    dense_embedding = [list(embd) for embd in dense_embedding]\n",
    "\n",
    "    return {\n",
    "        'dense_embedding' : dense_embedding,\n",
    "        'sparse_embedding' : sparse_embedding\n",
    "    }"
   ]
  },
  {
   "cell_type": "code",
   "execution_count": 34,
   "metadata": {
    "execution": {
     "iopub.execute_input": "2025-05-28T03:19:22.498873Z",
     "iopub.status.busy": "2025-05-28T03:19:22.498148Z",
     "iopub.status.idle": "2025-05-28T03:19:22.504193Z",
     "shell.execute_reply": "2025-05-28T03:19:22.503380Z",
     "shell.execute_reply.started": "2025-05-28T03:19:22.498852Z"
    },
    "trusted": true
   },
   "outputs": [],
   "source": [
    "\n",
    "\n",
    "def format_docs(docs):\n",
    "    return \"\\n--------------\\n\".join([doc.payload['text'] for doc in docs])\n",
    "\n",
    "def rag(query, query_filter = None):\n",
    "    query_embedding = embedding_func(query)\n",
    "\n",
    "    prefetch = [\n",
    "        models.Prefetch(\n",
    "            query=query_embedding['dense_embedding'][0],\n",
    "            using=\"dense\",\n",
    "            limit=20,\n",
    "        ),\n",
    "        models.Prefetch(\n",
    "            # query=models.SparseVector(**query_embedding['sparse_embedding'][0].as_object()),\n",
    "            query = query_embedding['sparse_embedding'][0].as_object(),\n",
    "            using=\"sparse\",\n",
    "            limit=20,\n",
    "        ),\n",
    "    ]\n",
    "    \n",
    "    search_results = qdrant.query_points(\n",
    "        collection_name=\"demo_collection\",\n",
    "        query=models.FusionQuery(\n",
    "            fusion=models.Fusion.RRF  # we are using reciprocal rank fusion here\n",
    "        ),\n",
    "        prefetch=prefetch,\n",
    "        query_filter=query_filter,\n",
    "        limit=5\n",
    "    ).points\n",
    "\n",
    "    return format_docs(search_results)"
   ]
  },
  {
   "cell_type": "code",
   "execution_count": 35,
   "metadata": {
    "execution": {
     "iopub.execute_input": "2025-05-28T03:19:22.752565Z",
     "iopub.status.busy": "2025-05-28T03:19:22.751992Z",
     "iopub.status.idle": "2025-05-28T03:19:22.942852Z",
     "shell.execute_reply": "2025-05-28T03:19:22.941678Z",
     "shell.execute_reply.started": "2025-05-28T03:19:22.752544Z"
    },
    "trusted": true
   },
   "outputs": [
    {
     "data": {
      "application/vnd.jupyter.widget-view+json": {
       "model_id": "f42e982d4f4146be8d6f81c8dd636bee",
       "version_major": 2,
       "version_minor": 0
      },
      "text/plain": [
       "Batches:   0%|          | 0/1 [00:00<?, ?it/s]"
      ]
     },
     "metadata": {},
     "output_type": "display_data"
    },
    {
     "data": {
      "text/plain": [
       "'What’s up with Tesla’s Cybertruck? Everything to know about the much-hyped electric pickup\\n\\nAfter four years, the long-awaited launch of the Tesla Cybertruck electric pickup has come and gone.\\n\\nThe boxy vehicle is Tesla’s first new model since 2020, when it started delivering the Model Y. Yet, Cybertruck’s initial debut predates that moment; Tesla CEO Elon Musk showed off an early version of the pickup at a memorable 2019 event, when it accidentally smashed two windows while attempting to demonstrate Cybertruck’s durability.\\n\\nHere we’ll answer some questions we figured a brave explorer such as yourself might ask (err… type in a search bar) about Tesla’s Cybertruck, including details on the vehicle’s specs, availability and design of the vehicle. The first deliveries, in which about 10 high-profile customers like Reddit co-founder Alexis Ohanian took possession of the truck, occurred November 30 at the Tesla Gigafactory in Austin.\\n--------------\\nIn late 2017, Musk hatched a plan to wrest control of the lab from Altman and the other founders and transform it into a commercial operation that would join forces with Tesla and rely on supercomputers the car company was developing, according to four people familiar with the matter. When Altman and others pushed back, Musk quit and said he would focus on his own AI work at Tesla. In February 2018, he announced his departure to OpenAI’s staff on the top floor of the startup’s offices in a converted truck factory, three people who attended the meeting said. When he said that OpenAI needed to move faster, one researcher retorted at the meeting that Musk was being reckless. Musk called the researcher a “jackass” and stormed out, taking his deep pockets with him. OpenAI suddenly needed new financing in a hurry. Altman flew to Sun Valley for a conference and ran into Satya Nadella, Microsoft’s CEO. A tie-up seemed natural. Altman knew Microsoft’s chief technology officer, Kevin Scott.\\n--------------\\nNio has opened its 2,000th Power Swap Station in China, nearing its goal to build 2,300 stations by the end of 2023. The company has expanded on its strategy of swapping out EV batteries, rather than charging them, an infrastructure-intensive process that has the potential to make topping up a battery as quick as filling up a gas tank.\\n\\nTesla has the attention of the U.S. Department of Justice — again. This time it has received requests for information, including subpoenas from the DOJ related to perks, the advertised range of its EVs and personnel decisions.\\n\\nIn-car and mobile tech\\n--------------\\nAmong EVs, vehicles with smaller batteries are generally better for the environment.\\n\\nStay tuned\\n\\nWe have a lot more questions and we expect Tesla to share more details during its November 30 delivery event. How does the Cybertruck compare to other Teslas? What about electric pickups from the competition, including Ford or GMC? When will Tesla release the cheaper, single-motor Cybertruck variant it promised back in 2019? Check back for updates as we learn more.\\n--------------\\nTesla CEO Elon Musk is also trying to build a humanoid, called Optimus, through the electric car-maker’s robotics division, but a hyped-up live demonstration last year of the robot’s awkwardly halting steps didn’t impress experts in the robotics field. Seemingly farther along is Tesla’s Austin, Texas-based neighbor Apptronik, which unveiled its Apollo humanoid in an August video demonstration.\\n\\nAll the attention — and money — poured into making ungainly humanoid machines might make the whole enterprise seem like a futile hobby for wealthy technologists, but for some pioneers of legged robots it’s all about what you learn along the way.\\n\\n“Not only about their design and operation, but also about how people respond to them, and about the critical underlying technologies for mobility, dexterity, perception and intelligence,” said Marc Raibert, the co-founder of Boston Dynamics, best known for its dog-like robots named Spot.'"
      ]
     },
     "execution_count": 35,
     "metadata": {},
     "output_type": "execute_result"
    }
   ],
   "source": [
    "rag('Who is the boss of Tesla')"
   ]
  },
  {
   "cell_type": "code",
   "execution_count": 36,
   "metadata": {
    "execution": {
     "iopub.execute_input": "2025-05-28T03:19:23.382237Z",
     "iopub.status.busy": "2025-05-28T03:19:23.381757Z",
     "iopub.status.idle": "2025-05-28T03:19:23.386913Z",
     "shell.execute_reply": "2025-05-28T03:19:23.386350Z",
     "shell.execute_reply.started": "2025-05-28T03:19:23.382213Z"
    },
    "trusted": true
   },
   "outputs": [
    {
     "data": {
      "text/plain": [
       "2556"
      ]
     },
     "execution_count": 36,
     "metadata": {},
     "output_type": "execute_result"
    }
   ],
   "source": [
    "len(query_data)"
   ]
  },
  {
   "cell_type": "code",
   "execution_count": 37,
   "metadata": {
    "execution": {
     "iopub.execute_input": "2025-05-28T03:19:23.778197Z",
     "iopub.status.busy": "2025-05-28T03:19:23.777560Z",
     "iopub.status.idle": "2025-05-28T03:19:23.783400Z",
     "shell.execute_reply": "2025-05-28T03:19:23.782468Z",
     "shell.execute_reply.started": "2025-05-28T03:19:23.778174Z"
    },
    "trusted": true
   },
   "outputs": [],
   "source": [
    "def get_decision(response):\n",
    "\n",
    "    decision = False\n",
    "    detail = ''\n",
    "    \n",
    "    if '## Decision:' in response and '## Details:' in response:\n",
    "        decision_text = response.split('## Decision:')[1].split('## Details:' )[0]\n",
    "        detail = response.split('## Details:' )[1]\n",
    "\n",
    "        if 'yes' in decision_text.lower():\n",
    "            decision = True\n",
    "        else:\n",
    "            decision = False\n",
    "\n",
    "    return decision, detail\n",
    "\n",
    "\n",
    "def force_answer(llm, query, rag_content):\n",
    "\n",
    "    messages =[\n",
    "        {\n",
    "            'role':'user',\n",
    "            'content': f'<question>{query}</question> <content>{rag_content}<context>. Based on the given context, think step-by-step and return your answer in \\\\boxed{{}}. DONOT return no'\n",
    "        }\n",
    "    ]\n",
    "\n",
    "    return llm(messages)"
   ]
  },
  {
   "cell_type": "code",
   "execution_count": 38,
   "metadata": {
    "execution": {
     "iopub.execute_input": "2025-05-28T03:19:25.856479Z",
     "iopub.status.busy": "2025-05-28T03:19:25.856184Z",
     "iopub.status.idle": "2025-05-28T03:19:25.863169Z",
     "shell.execute_reply": "2025-05-28T03:19:25.862446Z",
     "shell.execute_reply.started": "2025-05-28T03:19:25.856458Z"
    },
    "trusted": true
   },
   "outputs": [],
   "source": [
    "def solve(llm, query, max_iter = 3):\n",
    "\n",
    "    messages = [\n",
    "        {\n",
    "            'role' : 'system',\n",
    "            'content': system_prompt\n",
    "        },\n",
    "        {\n",
    "            'role': 'decoy'\n",
    "        }\n",
    "    ]\n",
    "\n",
    "    decision = False\n",
    "    final_answer = ''\n",
    "    intermediate_question = query\n",
    "\n",
    "    rag_content = ''\n",
    "    response = 'Anw cut'\n",
    "    \n",
    "    for i in range(3):\n",
    "        # remove prev\n",
    "        messages.pop()\n",
    "\n",
    "        rag_content += rag(intermediate_question)\n",
    "        \n",
    "        content = f\"Here is the provided content: \\n\\n {rag_content}. Answer the followning question \\n\\n<question>\\n\\n{query}\\n\\n</question>\"\n",
    "\n",
    "        messages.append(\n",
    "            {\n",
    "                'role' : 'user',\n",
    "                'content': content\n",
    "            }\n",
    "        )\n",
    "\n",
    "        response = llm(messages)\n",
    "        \n",
    "        print('### =================', i + 1, '================ ###')\n",
    "        print(response)\n",
    "        print('### ===================================== ###')\n",
    "        \n",
    "        decision, detail = get_decision(response)\n",
    "\n",
    "        # messages.append(\n",
    "        #     {\n",
    "        #         'role':'assistant',\n",
    "        #         'content': response\n",
    "        #     }\n",
    "        # )\n",
    "        \n",
    "\n",
    "        intermediate_question = detail\n",
    "        if decision:\n",
    "            break\n",
    "        \n",
    "\n",
    "    # messages.pop()\n",
    "    # messages.pop()\n",
    "    \n",
    "    # messages.append(\n",
    "    #     {\n",
    "    #         'role' :'assistant',\n",
    "    #         'content' : response\n",
    "    #     }\n",
    "    # )\n",
    "\n",
    "    answer = force_answer(llm, query, rag_content)\n",
    "\n",
    "    print('### =================RAG================ ###')\n",
    "    print(rag_content)\n",
    "    print('### ===================================== ###')\n",
    "    \n",
    "\n",
    "    print('### =================Final================ ###')\n",
    "    print(answer)\n",
    "    print('### ===================================== ###')\n",
    "    \n",
    "    return answer\n",
    "        "
   ]
  },
  {
   "cell_type": "code",
   "execution_count": 40,
   "metadata": {
    "execution": {
     "iopub.execute_input": "2025-05-28T03:21:17.532480Z",
     "iopub.status.busy": "2025-05-28T03:21:17.531766Z",
     "iopub.status.idle": "2025-05-28T03:21:26.480924Z",
     "shell.execute_reply": "2025-05-28T03:21:26.480182Z",
     "shell.execute_reply.started": "2025-05-28T03:21:17.532454Z"
    },
    "trusted": true
   },
   "outputs": [
    {
     "data": {
      "application/vnd.jupyter.widget-view+json": {
       "model_id": "cf1e546382004b90904316bf9fd769a7",
       "version_major": 2,
       "version_minor": 0
      },
      "text/plain": [
       "Batches:   0%|          | 0/1 [00:00<?, ?it/s]"
      ]
     },
     "metadata": {},
     "output_type": "display_data"
    },
    {
     "name": "stdout",
     "output_type": "stream",
     "text": [
      "CompletionUsage(completion_tokens=105, prompt_tokens=1136, total_tokens=1241, completion_tokens_details=None, prompt_tokens_details=None)\n",
      "### ================= 1 ================ ###\n",
      "## Reasoning:\n",
      "The provided context does not explicitly mention the current CEO of Tesla. However, given that Elon Musk is a central figure in the information provided, and considering he is the founder of Tesla, it is likely he is still the CEO. The context does not provide any information suggesting his position has changed.\n",
      "\n",
      "## Decision:\n",
      "No\n",
      "## Details:\n",
      "A new sub-question needed to answer the original question is: \"Who is currently the CEO of Tesla?\"\n",
      "\n",
      "Final Answer/New question: Who is currently the CEO of Tesla?\n",
      "### ===================================== ###\n"
     ]
    },
    {
     "data": {
      "application/vnd.jupyter.widget-view+json": {
       "model_id": "bb0f9b654ea54c6fbb288b973582a10b",
       "version_major": 2,
       "version_minor": 0
      },
      "text/plain": [
       "Batches:   0%|          | 0/1 [00:00<?, ?it/s]"
      ]
     },
     "metadata": {},
     "output_type": "display_data"
    },
    {
     "name": "stdout",
     "output_type": "stream",
     "text": [
      "CompletionUsage(completion_tokens=95, prompt_tokens=1992, total_tokens=2087, completion_tokens_details=None, prompt_tokens_details=None)\n",
      "### ================= 2 ================ ###\n",
      "## Reasoning:\n",
      "The provided context does not explicitly state who the CEO of Tesla is. However, it does mention Elon Musk in the context of Tesla and its projects, but it does not confirm if he is still the CEO.\n",
      "## Decision:\n",
      "No\n",
      "## Details:\n",
      "To answer the question \"Who is the CEO of Tesla?\", we need to know if Elon Musk is still the CEO or if there have been any changes in leadership since the last update in the provided context.\n",
      "### ===================================== ###\n"
     ]
    },
    {
     "data": {
      "application/vnd.jupyter.widget-view+json": {
       "model_id": "bb0f9638631a4b71abf9240e60ad0bb0",
       "version_major": 2,
       "version_minor": 0
      },
      "text/plain": [
       "Batches:   0%|          | 0/1 [00:00<?, ?it/s]"
      ]
     },
     "metadata": {},
     "output_type": "display_data"
    },
    {
     "name": "stdout",
     "output_type": "stream",
     "text": [
      "CompletionUsage(completion_tokens=102, prompt_tokens=2826, total_tokens=2928, completion_tokens_details=None, prompt_tokens_details=None)\n",
      "### ================= 3 ================ ###\n",
      "## Reasoning:\n",
      "Step-by-step reasoning\n",
      "1. The context provided discusses various events related to OpenAI and Tesla but does not directly state the current CEO of Tesla.\n",
      "2. The question asks specifically for the current CEO of Tesla.\n",
      "3. The information given does not mention any current CEO.\n",
      "## Decision:\n",
      "No\n",
      "## Details:\n",
      "To answer the question \"Who is the CEO of Tesla?\", we need the current CEO of Tesla mentioned in the context.\n",
      "New question: Who is the current CEO of Tesla?\n",
      "### ===================================== ###\n",
      "CompletionUsage(completion_tokens=13, prompt_tokens=2724, total_tokens=2737, completion_tokens_details=None, prompt_tokens_details=None)\n",
      "### =================RAG================ ###\n",
      "In late 2017, Musk hatched a plan to wrest control of the lab from Altman and the other founders and transform it into a commercial operation that would join forces with Tesla and rely on supercomputers the car company was developing, according to four people familiar with the matter. When Altman and others pushed back, Musk quit and said he would focus on his own AI work at Tesla. In February 2018, he announced his departure to OpenAI’s staff on the top floor of the startup’s offices in a converted truck factory, three people who attended the meeting said. When he said that OpenAI needed to move faster, one researcher retorted at the meeting that Musk was being reckless. Musk called the researcher a “jackass” and stormed out, taking his deep pockets with him. OpenAI suddenly needed new financing in a hurry. Altman flew to Sun Valley for a conference and ran into Satya Nadella, Microsoft’s CEO. A tie-up seemed natural. Altman knew Microsoft’s chief technology officer, Kevin Scott.\n",
      "--------------\n",
      "What’s up with Tesla’s Cybertruck? Everything to know about the much-hyped electric pickup\n",
      "\n",
      "After four years, the long-awaited launch of the Tesla Cybertruck electric pickup has come and gone.\n",
      "\n",
      "The boxy vehicle is Tesla’s first new model since 2020, when it started delivering the Model Y. Yet, Cybertruck’s initial debut predates that moment; Tesla CEO Elon Musk showed off an early version of the pickup at a memorable 2019 event, when it accidentally smashed two windows while attempting to demonstrate Cybertruck’s durability.\n",
      "\n",
      "Here we’ll answer some questions we figured a brave explorer such as yourself might ask (err… type in a search bar) about Tesla’s Cybertruck, including details on the vehicle’s specs, availability and design of the vehicle. The first deliveries, in which about 10 high-profile customers like Reddit co-founder Alexis Ohanian took possession of the truck, occurred November 30 at the Tesla Gigafactory in Austin.\n",
      "--------------\n",
      "Tesla CEO Elon Musk is also trying to build a humanoid, called Optimus, through the electric car-maker’s robotics division, but a hyped-up live demonstration last year of the robot’s awkwardly halting steps didn’t impress experts in the robotics field. Seemingly farther along is Tesla’s Austin, Texas-based neighbor Apptronik, which unveiled its Apollo humanoid in an August video demonstration.\n",
      "\n",
      "All the attention — and money — poured into making ungainly humanoid machines might make the whole enterprise seem like a futile hobby for wealthy technologists, but for some pioneers of legged robots it’s all about what you learn along the way.\n",
      "\n",
      "“Not only about their design and operation, but also about how people respond to them, and about the critical underlying technologies for mobility, dexterity, perception and intelligence,” said Marc Raibert, the co-founder of Boston Dynamics, best known for its dog-like robots named Spot.\n",
      "--------------\n",
      "OpenAI started out as a nonprofit when it launched with financial backing from Tesla CEO Elon Musk and others. Its stated aims were to “advance digital intelligence in the way that is most likely to benefit humanity as a whole, unconstrained by a need to generate financial return.”\n",
      "\n",
      "That changed in 2018 when it incorporated a for-profit business Open AI LP, and shifted nearly all its staff into the business, not long after releasing its first generation of the GPT large language model for mimicking human writing. Around the same time, Musk, who had co-chaired its board with Altman, resigned from the board in a move that OpenAI said would eliminate a “potential future conflict for Elon” due to Tesla’s work on building self-driving systems.\n",
      "\n",
      "While OpenAI’s board has preserved its nonprofit governance structure, the startup it oversees has increasingly sought to capitalize on its technology by tailoring its popular chatbot to business customers.\n",
      "--------------\n",
      "The 'whistleblower'\n",
      "\n",
      "Clark's first quarterly board meeting as sole CEO was June 1. His second was Aug. 31, days before he was forced out. The board was made up largely of investors who were betting on the founder. It included Founders Fund's Trae Stephens, who had helped start defense-tech firm Anduril Industries, and Michael Ronen, who left SoftBank in 2020. Andreessen Horowitz was represented by Bob Swan, an operating partner at the firm and former CEO of Intel .\n",
      "\n",
      "Bob Swan, then-interim chief executive officer and chief financial officer of Intel Corp., reacts during the inauguration of the company's research and development facility in Bengaluru, India, on November 15, 2018. Samyukta Lakshmi | Bloomberg | Getty ImagesSo the Epic Games Store isn’t a games store, right? It’s the store operated by Epic Games. So we have a lot of non-games there already. We have the Brave web browser, we have a number of software creation tools including Unreal Engine, and there’s more coming, including some other awesome creation tools and productivity tools. We’ll host any app anybody wants of any sort.\n",
      "\n",
      "I think the gaming market is something we’re uniquely close to, and so I think we would likely be able to forge closer partnerships and opportunities in gaming, but we’ll be open to everybody on Android as we are on PC.\n",
      "\n",
      "What were your settlement talks with Google CEO Sundar Pichai like?\n",
      "--------------\n",
      "What’s up with Tesla’s Cybertruck? Everything to know about the much-hyped electric pickup\n",
      "\n",
      "After four years, the long-awaited launch of the Tesla Cybertruck electric pickup has come and gone.\n",
      "\n",
      "The boxy vehicle is Tesla’s first new model since 2020, when it started delivering the Model Y. Yet, Cybertruck’s initial debut predates that moment; Tesla CEO Elon Musk showed off an early version of the pickup at a memorable 2019 event, when it accidentally smashed two windows while attempting to demonstrate Cybertruck’s durability.\n",
      "\n",
      "Here we’ll answer some questions we figured a brave explorer such as yourself might ask (err… type in a search bar) about Tesla’s Cybertruck, including details on the vehicle’s specs, availability and design of the vehicle. The first deliveries, in which about 10 high-profile customers like Reddit co-founder Alexis Ohanian took possession of the truck, occurred November 30 at the Tesla Gigafactory in Austin.\n",
      "--------------\n",
      "In late 2017, Musk hatched a plan to wrest control of the lab from Altman and the other founders and transform it into a commercial operation that would join forces with Tesla and rely on supercomputers the car company was developing, according to four people familiar with the matter. When Altman and others pushed back, Musk quit and said he would focus on his own AI work at Tesla. In February 2018, he announced his departure to OpenAI’s staff on the top floor of the startup’s offices in a converted truck factory, three people who attended the meeting said. When he said that OpenAI needed to move faster, one researcher retorted at the meeting that Musk was being reckless. Musk called the researcher a “jackass” and stormed out, taking his deep pockets with him. OpenAI suddenly needed new financing in a hurry. Altman flew to Sun Valley for a conference and ran into Satya Nadella, Microsoft’s CEO. A tie-up seemed natural. Altman knew Microsoft’s chief technology officer, Kevin Scott.\n",
      "--------------\n",
      "We probably won’t know the full truth on this for a long time, as the characters in the drama are likely to be NDA’ed up. Per various whispers and leaks, an all-hands meeting about the situation this afternoon didn’t produce any revelations beyond banal reassurances that the company is fine and they’ll get a fresh CEO soon. Expect to hear a lot of rumors before we hear the real thing.\n",
      "--------------\n",
      "The Steam Deck OLED delivers on Valve’s original promise\n",
      "\n",
      "OLED is in the name for a reason.\n",
      "\n",
      "The OLED panel in the new Steam Deck is lighter, thinner, and more power efficient than its LCD predecessor. It’s also bigger and faster. Though the device has the same shape as the original Steam Deck, smaller screen bezels allow for a display that’s slightly larger, at 7.4 inches compared to 7 inches. The panel has a wider color gamut (110% DCI-P3, for the visual obsessives) and the beautiful, inky blacks that OLED dorks like myself adore.\n",
      "\n",
      "Steam Deck OLED’s bigger, better battery Valve’s promise of 30-50% more battery raised one obvious question: Is that comparing the OLED model with a Steam Deck running its original firmware (which had poor battery life), or a Steam Deck using the latest firmware? Valve’s answer: the latter! So if you’re a Steam Deck owner, expect those big battery improvements over your current Steam Deck experience.In late 2017, Musk hatched a plan to wrest control of the lab from Altman and the other founders and transform it into a commercial operation that would join forces with Tesla and rely on supercomputers the car company was developing, according to four people familiar with the matter. When Altman and others pushed back, Musk quit and said he would focus on his own AI work at Tesla. In February 2018, he announced his departure to OpenAI’s staff on the top floor of the startup’s offices in a converted truck factory, three people who attended the meeting said. When he said that OpenAI needed to move faster, one researcher retorted at the meeting that Musk was being reckless. Musk called the researcher a “jackass” and stormed out, taking his deep pockets with him. OpenAI suddenly needed new financing in a hurry. Altman flew to Sun Valley for a conference and ran into Satya Nadella, Microsoft’s CEO. A tie-up seemed natural. Altman knew Microsoft’s chief technology officer, Kevin Scott.\n",
      "--------------\n",
      "What’s up with Tesla’s Cybertruck? Everything to know about the much-hyped electric pickup\n",
      "\n",
      "After four years, the long-awaited launch of the Tesla Cybertruck electric pickup has come and gone.\n",
      "\n",
      "The boxy vehicle is Tesla’s first new model since 2020, when it started delivering the Model Y. Yet, Cybertruck’s initial debut predates that moment; Tesla CEO Elon Musk showed off an early version of the pickup at a memorable 2019 event, when it accidentally smashed two windows while attempting to demonstrate Cybertruck’s durability.\n",
      "\n",
      "Here we’ll answer some questions we figured a brave explorer such as yourself might ask (err… type in a search bar) about Tesla’s Cybertruck, including details on the vehicle’s specs, availability and design of the vehicle. The first deliveries, in which about 10 high-profile customers like Reddit co-founder Alexis Ohanian took possession of the truck, occurred November 30 at the Tesla Gigafactory in Austin.\n",
      "--------------\n",
      "So the Epic Games Store isn’t a games store, right? It’s the store operated by Epic Games. So we have a lot of non-games there already. We have the Brave web browser, we have a number of software creation tools including Unreal Engine, and there’s more coming, including some other awesome creation tools and productivity tools. We’ll host any app anybody wants of any sort.\n",
      "\n",
      "I think the gaming market is something we’re uniquely close to, and so I think we would likely be able to forge closer partnerships and opportunities in gaming, but we’ll be open to everybody on Android as we are on PC.\n",
      "\n",
      "What were your settlement talks with Google CEO Sundar Pichai like?\n",
      "--------------\n",
      "OpenAI started out as a nonprofit when it launched with financial backing from Tesla CEO Elon Musk and others. Its stated aims were to “advance digital intelligence in the way that is most likely to benefit humanity as a whole, unconstrained by a need to generate financial return.”\n",
      "\n",
      "That changed in 2018 when it incorporated a for-profit business Open AI LP, and shifted nearly all its staff into the business, not long after releasing its first generation of the GPT large language model for mimicking human writing. Around the same time, Musk, who had co-chaired its board with Altman, resigned from the board in a move that OpenAI said would eliminate a “potential future conflict for Elon” due to Tesla’s work on building self-driving systems.\n",
      "\n",
      "While OpenAI’s board has preserved its nonprofit governance structure, the startup it oversees has increasingly sought to capitalize on its technology by tailoring its popular chatbot to business customers.\n",
      "--------------\n",
      "We probably won’t know the full truth on this for a long time, as the characters in the drama are likely to be NDA’ed up. Per various whispers and leaks, an all-hands meeting about the situation this afternoon didn’t produce any revelations beyond banal reassurances that the company is fine and they’ll get a fresh CEO soon. Expect to hear a lot of rumors before we hear the real thing.\n",
      "### ===================================== ###\n",
      "### =================Final================ ###\n",
      "\\boxed{Elon Musk} is the CEO of Tesla.\n",
      "### ===================================== ###\n"
     ]
    },
    {
     "data": {
      "text/plain": [
       "'\\\\boxed{Elon Musk} is the CEO of Tesla.'"
      ]
     },
     "execution_count": 40,
     "metadata": {},
     "output_type": "execute_result"
    }
   ],
   "source": [
    "solve(llm, 'Who is the CEO of Tesla')"
   ]
  },
  {
   "cell_type": "code",
   "execution_count": 50,
   "metadata": {
    "execution": {
     "iopub.execute_input": "2025-05-27T13:37:15.644348Z",
     "iopub.status.busy": "2025-05-27T13:37:15.644098Z",
     "iopub.status.idle": "2025-05-27T13:37:15.647721Z",
     "shell.execute_reply": "2025-05-27T13:37:15.646983Z",
     "shell.execute_reply.started": "2025-05-27T13:37:15.644330Z"
    },
    "trusted": true
   },
   "outputs": [],
   "source": [
    "# answer = response.split(\"Answer is:\")[1].strip()[:-1]\n",
    "# answer"
   ]
  },
  {
   "cell_type": "code",
   "execution_count": null,
   "metadata": {
    "execution": {
     "iopub.status.busy": "2025-05-27T13:30:36.073346Z",
     "iopub.status.idle": "2025-05-27T13:30:36.073649Z",
     "shell.execute_reply": "2025-05-27T13:30:36.073502Z",
     "shell.execute_reply.started": "2025-05-27T13:30:36.073493Z"
    },
    "trusted": true
   },
   "outputs": [],
   "source": [
    "from sklearn.metrics import f1_score, precision_score, recall_score\n",
    "import re\n",
    "\n",
    "def normalize_text(text):\n",
    "\n",
    "    if '\\\\boxed{' in text:\n",
    "        text = text.split('\\\\boxed{')[1].split('}')[0]\n",
    "    else:\n",
    "        text = text.split('\\n')[-1]\n",
    "    \n",
    "    return re.sub(r\"[\\W_]+\", \"\", text.lower())\n",
    "\n",
    "test_count = 1\n",
    "match = 0\n",
    "preds = []\n",
    "labels = []\n",
    "iteration_logs = []\n",
    "\n",
    "for i in range(test_count):\n",
    "    query = query_data[i][\"query\"]\n",
    "    gold = query_data[i][\"answer\"]\n",
    "\n",
    "    result = ircot_answer(query)\n",
    "    pred = result[\"answer\"]\n",
    "    pred_norm = normalize_text(pred)\n",
    "    gold_norm = normalize_text(gold)\n",
    "\n",
    "#     if pred_norm == gold_norm:\n",
    "#         match += 1\n",
    "\n",
    "#     preds.append(pred_norm)\n",
    "#     labels.append(gold_norm)\n",
    "#     iteration_logs.append(result[\"iterations\"])\n",
    "\n",
    "# accuracy = match / test_count * 100\n",
    "# f1 = f1_score(labels, preds, average='micro')\n",
    "# precision = precision_score(labels, preds, average='micro')\n",
    "# recall = recall_score(labels, preds, average='micro')\n",
    "\n",
    "# print(f\"Accuracy: {accuracy:.2f}%\")\n",
    "# print(f\"F1 Score: {f1:.4f} | Precision: {precision:.4f} | Recall: {recall:.4f}\")\n",
    "# print(f\"Avg IRCoT iterations: {sum(iteration_logs)/len(iteration_logs):.2f}\")"
   ]
  }
 ],
 "metadata": {
  "kaggle": {
   "accelerator": "nvidiaTeslaT4",
   "dataSources": [],
   "dockerImageVersionId": 31041,
   "isGpuEnabled": true,
   "isInternetEnabled": true,
   "language": "python",
   "sourceType": "notebook"
  },
  "kernelspec": {
   "display_name": "Python 3",
   "language": "python",
   "name": "python3"
  },
  "language_info": {
   "codemirror_mode": {
    "name": "ipython",
    "version": 3
   },
   "file_extension": ".py",
   "mimetype": "text/x-python",
   "name": "python",
   "nbconvert_exporter": "python",
   "pygments_lexer": "ipython3",
   "version": "3.11.11"
  }
 },
 "nbformat": 4,
 "nbformat_minor": 4
}
